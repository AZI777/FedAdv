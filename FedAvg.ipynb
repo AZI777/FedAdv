{
 "cells": [
  {
   "cell_type": "code",
   "id": "acdf99d16e3faf6",
   "metadata": {},
   "source": [
    "import torch\n",
    "from torch.utils.data import Subset\n",
    "from torchvision import datasets, transforms\n",
    "import numpy as np\n",
    "import matplotlib.pyplot as plt\n",
    "from data_utils import split_non_iid_dataset,read_log\n",
    "from federated_learning_system import Server, n_clients, ALPHA,fraction_client\n",
    "from model import Model\n",
    "\n",
    "# 检查CUDA是否可用\n",
    "device = 'cuda' if torch.cuda.is_available() else 'cpu'\n",
    "\n",
    "\n",
    "\n",
    "# EMNIST.class_to_idx是一个存放了映射的字典，可以帮助我们获得labels到字符的映射。\n",
    "# for i, char in data.class_to_idx.items():\n",
    "#     print(f\"{i}: {char}\")\n"
   ],
   "outputs": [],
   "execution_count": null
  },
  {
   "cell_type": "code",
   "id": "initial_id",
   "metadata": {},
   "source": [
    "train_dataset = datasets.EMNIST(root='.', split='byclass', download=True, train=True, transform=transforms.Compose([\n",
    "    transforms.ToTensor(),\n",
    "    transforms.RandomRotation((0, 360))\n",
    "]))\n",
    "\n",
    "labels = train_dataset.targets.numpy()\n",
    "index = np.random.permutation(len(train_dataset))\n",
    "train_index=index\n",
    "train_index_by_client = split_non_iid_dataset(labels=labels, index=train_index, alpha=ALPHA, n_clients=n_clients)\n",
    "train_labels = [labels[idx] for idx in train_index_by_client]\n",
    "train_datasets = [Subset(train_dataset, idx) for idx in train_index_by_client]\n",
    "\n",
    "test_dataset = datasets.EMNIST(root='.', split='byclass', download=True, train=False,\n",
    "                               transform=transforms.Compose([transforms.ToTensor()]))\n",
    "\n",
    "mapp = np.array(['0', '1', '2', '3', '4', '5', '6', '7', '8', '9', 'A', 'B', 'C',\n",
    "                 'D', 'E', 'F', 'G', 'H', 'I', 'J', 'K', 'L', 'M', 'N', 'O', 'P',\n",
    "                 'Q', 'R', 'S', 'T', 'U', 'V', 'W', 'X', 'Y', 'Z', 'a', 'b', 'c',\n",
    "                 'd', 'e', 'f', 'g', 'h', 'i', 'j', 'k', 'l', 'm', 'n', 'o', 'p',\n",
    "                 'q', 'r', 's', 't', 'u', 'v', 'w', 'x', 'y', 'z'], dtype='<U1')\n",
    "\n",
    "plt.figure(figsize=(20, 3))\n",
    "# train_labels是有n_clients个list的列表\n",
    "plt.hist(train_labels,\n",
    "         bins=np.arange(len(mapp)) - 0.5,\n",
    "         stacked=True,\n",
    "         label=[\"Client {}\".format(i + 1) for i in range(n_clients)])\n",
    "plt.xticks(ticks=np.arange(62), labels=mapp)\n",
    "plt.legend()\n",
    "plt.show()"
   ],
   "outputs": [],
   "execution_count": null
  },
  {
   "cell_type": "code",
   "id": "5fb10d6d4b8570ca",
   "metadata": {},
   "source": [
    "n_rounds=600\n",
    "server = Server(Model, test_dataset, n_rounds, fraction_client, *train_datasets)"
   ],
   "outputs": [],
   "execution_count": null
  },
  {
   "cell_type": "code",
   "id": "af3c2bfe41e66902",
   "metadata": {},
   "source": [
    "train_loss_list, train_accuracy_list, evaluate_loss_list, evaluate_accuracy_list = [], [], [], []\n",
    "server.run(train_loss_list, train_accuracy_list, evaluate_loss_list, evaluate_accuracy_list,301)"
   ],
   "outputs": [],
   "execution_count": null
  },
  {
   "metadata": {},
   "cell_type": "code",
   "source": [
    "import matplotlib.pyplot as plt\n",
    "from  data_utils import  read_log\n",
    "\n",
    "train_loss_list, train_accuracy_list, evaluate_loss_list, evaluate_accuracy_list=read_log()\n",
    "length=len(train_loss_list)\n",
    "r = range(1, length + 1)\n",
    "rx=range(1,length+1,50)\n",
    "plt.figure(figsize=(20, 4))\n",
    "\n",
    "fig, (ax0, ax1) = plt.subplots(2, 1, sharex=True, constrained_layout=True)\n",
    "ax0.plot(r, train_loss_list, label=\"train\")\n",
    "ax0.plot(r, evaluate_loss_list, label=\"evaluate\")\n",
    "ax0.set_title('Learning Curves')\n",
    "ax0.legend(loc=\"upper right\")\n",
    "ax0.set_ylabel('Loss')\n",
    "ax1.plot(r, train_accuracy_list, label=\"train\")\n",
    "ax1.plot(r, evaluate_accuracy_list, label=\"evaluate\")\n",
    "ax1.legend(loc=\"upper right\")\n",
    "ax1.set_ylabel('Accuracy(%)')\n",
    "ax1.set_xlabel('Round')\n",
    "ax1.set_xticks(rx)\n",
    "plt.show()"
   ],
   "id": "c211514d2464307b",
   "outputs": [],
   "execution_count": null
  }
 ],
 "metadata": {
  "kernelspec": {
   "display_name": "Python 3 (ipykernel)",
   "language": "python",
   "name": "python3"
  },
  "language_info": {
   "codemirror_mode": {
    "name": "ipython",
    "version": 3
   },
   "file_extension": ".py",
   "mimetype": "text/x-python",
   "name": "python",
   "nbconvert_exporter": "python",
   "pygments_lexer": "ipython3",
   "version": "3.12.3"
  }
 },
 "nbformat": 4,
 "nbformat_minor": 5
}
